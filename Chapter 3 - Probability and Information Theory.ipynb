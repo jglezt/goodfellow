{
 "cells": [
  {
   "cell_type": "markdown",
   "metadata": {
    "ein.tags": "worksheet-0",
    "slideshow": {
     "slide_type": "-"
    }
   },
   "source": [
    "probability theory allows us to make uncertain statements and reason\n",
    "in the presence of uncertainty, information theory allows us to\n",
    "quantify the amount of uncertainty in a probability distribution\n",
    "\n",
    "# 3.1 Why Probability?\n",
    "\n",
    "Machine learning needs to deal with uncertainty & stochasticity.\n",
    "\n",
    "Frequentist probabilty related directly to the rates at which events\n",
    "occur. Bayesian probability related to qualitative levels of\n",
    "certainty.\n",
    "\n",
    "# 3.2 Random Variables"
   ]
  },
  {
   "cell_type": "code",
   "execution_count": 2,
   "metadata": {
    "autoscroll": false,
    "ein.hycell": false,
    "ein.tags": "worksheet-0",
    "slideshow": {
     "slide_type": "-"
    }
   },
   "outputs": [
    {
     "name": "stdout",
     "output_type": "stream",
     "text": [
      "\u001b[32m\u001b[1m  Updating\u001b[22m\u001b[39m registry at `~/.julia/registries/General`\n",
      "\u001b[32m\u001b[1m  Updating\u001b[22m\u001b[39m git-repo `https://github.com/JuliaRegistries/General.git`\n",
      "\u001b[2K\u001b[?25h[1mFetching:\u001b[22m\u001b[39m [========================================>]  100.0 %.0 % [=========>                               ]  21.1 %]  42.1 %==========================>              ]  63.2 %]  84.1 %\u001b[32m\u001b[1m Resolving\u001b[22m\u001b[39m package versions...\n",
      "\u001b[32m\u001b[1m Installed\u001b[22m\u001b[39m PDMats ─ v0.9.6\n",
      "\u001b[32m\u001b[1m  Updating\u001b[22m\u001b[39m `~/.julia/environments/v1.0/Project.toml`\n",
      "\u001b[90m [no changes]\u001b[39m\n",
      "\u001b[32m\u001b[1m  Updating\u001b[22m\u001b[39m `~/.julia/environments/v1.0/Manifest.toml`\n",
      " \u001b[90m [90014a1f]\u001b[39m\u001b[93m ↑ PDMats v0.9.5 ⇒ v0.9.6\u001b[39m\n"
     ]
    }
   ],
   "source": [
    "using Pkg\n",
    "Pkg.add(\"Distributions\")"
   ]
  },
  {
   "cell_type": "code",
   "execution_count": 1,
   "metadata": {
    "autoscroll": false,
    "ein.hycell": false,
    "ein.tags": "worksheet-0",
    "slideshow": {
     "slide_type": "-"
    }
   },
   "outputs": [
    {
     "data": {
      "text/plain": [
       "MersenneTwister(UInt32[0x0000029a], Random.DSFMT.DSFMT_state(Int32[-1829720698, 1073617959, -209863392, 1073342874, 851925708, 1073663428, 929754575, 1073410908, -1469009651, 1073283821  …  -1656730289, 1072845189, 1382744295, 1073272649, -1940720456, -2031062331, 1988518479, 1214015520, 382, 0]), [0.0, 0.0, 0.0, 0.0, 0.0, 0.0, 0.0, 0.0, 0.0, 0.0  …  0.0, 0.0, 0.0, 0.0, 0.0, 0.0, 0.0, 0.0, 0.0, 0.0], UInt128[0x00000000000000000000000000000000, 0x00000000000000000000000000000000, 0x00000000000000000000000000000000, 0x00000000000000000000000000000000, 0x00000000000000000000000000000000, 0x00000000000000000000000000000000, 0x00000000000000000000000000000000, 0x00000000000000000000000000000000, 0x00000000000000000000000000000000, 0x00000000000000000000000000000000  …  0x00000000000000000000000000000000, 0x00000000000000000000000000000000, 0x00000000000000000000000000000000, 0x00000000000000000000000000000000, 0x00000000000000000000000000000000, 0x00000000000000000000000000000000, 0x00000000000000000000000000000000, 0x00000000000000000000000000000000, 0x00000000000000000000000000000000, 0x00000000000000000000000000000000], 1002, 0)"
      ]
     },
     "execution_count": 1,
     "metadata": {},
     "output_type": "execute_result"
    }
   ],
   "source": [
    "# https://juliastats.github.io/Distributions.jl/latest/starting.html\n",
    "using Random, Distributions\n",
    "Random.seed!(666)"
   ]
  },
  {
   "cell_type": "code",
   "execution_count": 2,
   "metadata": {
    "autoscroll": false,
    "ein.hycell": false,
    "ein.tags": "worksheet-0",
    "slideshow": {
     "slide_type": "-"
    }
   },
   "outputs": [
    {
     "data": {
      "text/plain": [
       "10-element Array{Float64,1}:\n",
       "  0.0076177742633394985\n",
       "  0.05702524809146323  \n",
       " -0.5484010117038763   \n",
       "  0.3515255484089337   \n",
       " -0.784929798992992    \n",
       "  0.24501763591278475  \n",
       "  0.30611493207760276  \n",
       " -1.0304943902767967   \n",
       " -0.21629784327601548  \n",
       " -2.132446790112065    "
      ]
     },
     "execution_count": 2,
     "metadata": {},
     "output_type": "execute_result"
    }
   ],
   "source": [
    "d = Normal()\n",
    "x = rand(d, 10)"
   ]
  },
  {
   "cell_type": "code",
   "execution_count": 3,
   "metadata": {
    "autoscroll": false,
    "ein.hycell": false,
    "ein.tags": "worksheet-0",
    "slideshow": {
     "slide_type": "-"
    }
   },
   "outputs": [
    {
     "data": {
      "text/plain": [
       "10-element Array{Float64,1}:\n",
       " -0.4237134662306563 \n",
       "  1.9982078834292953 \n",
       " -6.925610565091822  \n",
       " -0.42168711834161665\n",
       "  0.9555525938474783 \n",
       "  1.7599938921654399 \n",
       "  1.7950911590950587 \n",
       "  2.49918091211192   \n",
       " -1.6661992395358336 \n",
       " -0.7560595129104921 "
      ]
     },
     "execution_count": 3,
     "metadata": {},
     "output_type": "execute_result"
    }
   ],
   "source": [
    "rand(Cauchy(1), 10)"
   ]
  },
  {
   "cell_type": "code",
   "execution_count": 4,
   "metadata": {
    "autoscroll": false,
    "ein.hycell": false,
    "ein.tags": "worksheet-0",
    "slideshow": {
     "slide_type": "-"
    }
   },
   "outputs": [
    {
     "data": {
      "text/plain": [
       "10-element Array{Int64,1}:\n",
       " 18\n",
       " 25\n",
       " 22\n",
       " 18\n",
       " 27\n",
       " 21\n",
       " 27\n",
       " 29\n",
       " 21\n",
       " 24"
      ]
     },
     "execution_count": 4,
     "metadata": {},
     "output_type": "execute_result"
    }
   ],
   "source": [
    "# generate a discrete distribution\n",
    "\n",
    "rand(Binomial(100, 0.25), 10)"
   ]
  },
  {
   "cell_type": "markdown",
   "metadata": {
    "ein.tags": "worksheet-0",
    "slideshow": {
     "slide_type": "-"
    }
   },
   "source": [
    "# 3.3 Probability Distributions\n",
    "\n",
    "## 3.3.1 Discrete Variables and Probability Mass Functions\n",
    "\n",
    "A probability distribution over discrete variables may be described\n",
    "using a probability mass function (PMF)"
   ]
  },
  {
   "cell_type": "code",
   "execution_count": 5,
   "metadata": {
    "autoscroll": false,
    "ein.hycell": false,
    "ein.tags": "worksheet-0",
    "slideshow": {
     "slide_type": "-"
    }
   },
   "outputs": [
    {
     "data": {
      "text/plain": [
       "0.8"
      ]
     },
     "execution_count": 5,
     "metadata": {},
     "output_type": "execute_result"
    }
   ],
   "source": [
    "pdf(Bernoulli(0.2), 0)"
   ]
  },
  {
   "cell_type": "markdown",
   "metadata": {
    "ein.tags": "worksheet-0",
    "slideshow": {
     "slide_type": "-"
    }
   },
   "source": [
    "## 3.3.2 Continuous Variables and Probability Density Functions\n",
    "$\\int p(x) \\mathrm(d)x = 1"
   ]
  },
  {
   "cell_type": "code",
   "execution_count": 7,
   "metadata": {
    "autoscroll": false,
    "ein.hycell": false,
    "ein.tags": "worksheet-0",
    "slideshow": {
     "slide_type": "-"
    }
   },
   "outputs": [
    {
     "data": {
      "text/plain": [
       "0.5"
      ]
     },
     "execution_count": 7,
     "metadata": {},
     "output_type": "execute_result"
    }
   ],
   "source": [
    "# consider a single discrete random variable x with k different\n",
    "# states. We can place a uniform distribution on x—that is, make each\n",
    "# of its states equally likely—by setting its probability mass\n",
    "# function to Px = 1/k\n",
    "pdf(Uniform(0, 2), .3)"
   ]
  },
  {
   "cell_type": "code",
   "execution_count": 7,
   "metadata": {
    "autoscroll": false,
    "ein.hycell": false,
    "ein.tags": "worksheet-0",
    "slideshow": {
     "slide_type": "-"
    }
   },
   "outputs": [
    {
     "data": {
      "text/plain": [
       "0.1292701761195721"
      ]
     },
     "execution_count": 7,
     "metadata": {},
     "output_type": "execute_result"
    }
   ],
   "source": [
    "# https://en.wikipedia.org/wiki/Von_Mises_distribution\n",
    "pdf(VonMises(0, .2), 3)"
   ]
  },
  {
   "cell_type": "markdown",
   "metadata": {
    "ein.tags": "worksheet-0",
    "slideshow": {
     "slide_type": "-"
    }
   },
   "source": [
    "# 3.4 Marginal Probability\n",
    "\n",
    "Marginal probability is probility distribution over a subset of variables. "
   ]
  },
  {
   "cell_type": "code",
   "execution_count": 21,
   "metadata": {
    "autoscroll": false,
    "ein.hycell": false,
    "ein.tags": "worksheet-0",
    "slideshow": {
     "slide_type": "-"
    }
   },
   "outputs": [],
   "source": [
    "# Trying to make an example showing the sum rule"
   ]
  },
  {
   "cell_type": "markdown",
   "metadata": {
    "ein.tags": "worksheet-0",
    "slideshow": {
     "slide_type": "-"
    }
   },
   "source": [
    "# 3.5 Conditional Probability\n",
    "\n",
    "It is the probability of some event given some other event has happened. "
   ]
  },
  {
   "cell_type": "code",
   "execution_count": 35,
   "metadata": {
    "autoscroll": false,
    "ein.hycell": false,
    "ein.tags": "worksheet-0",
    "slideshow": {
     "slide_type": "-"
    }
   },
   "outputs": [
    {
     "name": "stdout",
     "output_type": "stream",
     "text": [
      "\u001b[32m\u001b[1m  Updating\u001b[22m\u001b[39m registry at `~/.julia/registries/General`\n",
      "\u001b[32m\u001b[1m  Updating\u001b[22m\u001b[39m git-repo `https://github.com/JuliaRegistries/General.git`\n",
      "\u001b[2K\u001b[?25h[1mFetching:\u001b[22m\u001b[39m [========================================>]  100.0 %.0 %>]  97.6 %\u001b[32m\u001b[1m Resolving\u001b[22m\u001b[39m package versions...\n",
      "\u001b[32m\u001b[1m  Updating\u001b[22m\u001b[39m `~/.julia/environments/v1.0/Project.toml`\n",
      " \u001b[90m [276daf66]\u001b[39m\u001b[92m + SpecialFunctions v0.7.2\u001b[39m\n",
      "\u001b[32m\u001b[1m  Updating\u001b[22m\u001b[39m `~/.julia/environments/v1.0/Manifest.toml`\n",
      "\u001b[90m [no changes]\u001b[39m\n"
     ]
    }
   ],
   "source": [
    "using Pkg\n",
    "Pkg.add(\"SpecialFunctions\")"
   ]
  },
  {
   "cell_type": "code",
   "execution_count": 37,
   "metadata": {
    "autoscroll": false,
    "ein.hycell": false,
    "ein.tags": "worksheet-0",
    "slideshow": {
     "slide_type": "-"
    }
   },
   "outputs": [
    {
     "data": {
      "text/plain": [
       "(0.26893337073278945, 0.2692370305985609)"
      ]
     },
     "execution_count": 37,
     "metadata": {},
     "output_type": "execute_result"
    }
   ],
   "source": [
    "using SpecialFunctions\n",
    "\n",
    "# example from p66:\n",
    "# https://people.smp.uq.edu.au/YoniNazarathy/julia-stats/exploring-julia-a-statistical-primer-DRAFT.pdf\n",
    "n = 2000\n",
    "\n",
    "# Let A be the event of a manufacturing failure, assume to dependent\n",
    "# on number of dust particals\n",
    "probAGivenB(k) = 1 - 1 / (k+1)\n",
    "\n",
    "# This is dust partitcal probility distribution\n",
    "probB(k) = 6 / (pi * (k + 1)) ^ 2 # \n",
    "\n",
    "# now approximate the series until n = 2000\n",
    "numerical = sum([ probAGivenB(k) * probB(k) for k in 0:n])\n",
    "\n",
    "analytical = (pi^2 - 6 * zeta(3)) / pi ^ 2\n",
    "\n",
    "# compare the similared & analytical solution to approximate the\n",
    "# probabilty of manufactruing failure\n",
    "numerical, analytical "
   ]
  },
  {
   "cell_type": "markdown",
   "metadata": {
    "ein.tags": "worksheet-0",
    "slideshow": {
     "slide_type": "-"
    }
   },
   "source": [
    "# 3.6 The Chain Rule of Conditional Probabilities\n",
    "# 3.7 Independence and Conditonal Independence\n",
    "\n",
    "Two random variables x and y are independent if their probability\n",
    "distribution can be expressed as a product of two factors.\n",
    "\n",
    "An example showing when events are not independent: Consider drawing a\n",
    "number uniformly from the range 10 to 25. The probability of drawing\n",
    "13 could be expressed by drawing 1 and 3 seperately. But the drawing 1\n",
    "and 3 are not independent in this case:"
   ]
  },
  {
   "cell_type": "code",
   "execution_count": null,
   "metadata": {
    "autoscroll": false,
    "ein.hycell": false,
    "ein.tags": "worksheet-0",
    "slideshow": {
     "slide_type": "-"
    }
   },
   "outputs": [],
   "source": [
    "numbers = 10:25\n",
    "N = 10^8"
   ]
  },
  {
   "cell_type": "code",
   "execution_count": 8,
   "metadata": {
    "autoscroll": false,
    "ein.hycell": false,
    "ein.tags": "worksheet-0",
    "slideshow": {
     "slide_type": "-"
    }
   },
   "outputs": [
    {
     "name": "stdout",
     "output_type": "stream",
     "text": [
      "P(13) = 0.0499990243\n",
      "P(1_) = 0.5000005103\n",
      "P(_3) = 0.0999987842\n",
      "P(1_) * P(_3) = 0.04999944312937958\n"
     ]
    }
   ],
   "source": [
    "first_digit(x) = Int(floor(x/10))\n",
    "second_digit(x) = x % 10\n",
    "\n",
    "thirteen, first_num_one, second_num_three = 0, 0, 0\n",
    "\n",
    "for _ in 1:N\n",
    "  X = rand(numbers)\n",
    "  thirteen += X == 13 ? 1 : 0\n",
    "  first_num_one += first_digit(X) == 1 ? 1 : 0\n",
    "  second_num_three += second_digit(X) == 3 ? 1 : 0\n",
    "end\n",
    "\n",
    "prob_13, prob_1, prob_3 = (thirteen, first_num_one, second_num_three) ./ N\n",
    "\n",
    "println(\"P(13) = \", prob_13, \"\\n\",\n",
    "        \"P(1_) = \", prob_1, \"\\n\",\n",
    "        \"P(_3) = \", prob_3, \"\\n\",\n",
    "        \"P(1_) * P(_3) = \", prob_1 * prob_3)"
   ]
  },
  {
   "cell_type": "markdown",
   "metadata": {
    "ein.tags": "worksheet-0",
    "slideshow": {
     "slide_type": "-"
    }
   },
   "source": [
    "# 3.8 Expectation, Variance and Covariance\n",
    "\n",
    "Notion of moments: expectation / mean is the first moment and the zero's moment is always 1. \n",
    "\n",
    "The second moment is variance. It gives a measure of how much the values of a function of a random variable x vary as we sample different values of x from it's probability distribution. \n",
    "\n",
    "The square root of variance is standard deviation. "
   ]
  },
  {
   "cell_type": "code",
   "execution_count": 7,
   "metadata": {},
   "outputs": [
    {
     "data": {
      "text/plain": [
       "(5.003686, 4.989939403343398)"
      ]
     },
     "execution_count": 7,
     "metadata": {},
     "output_type": "execute_result"
    }
   ],
   "source": [
    "dist = Poisson(5)\n",
    "N = 10^6\n",
    "data = rand(dist, N)\n",
    "mean(data), var(data)"
   ]
  },
  {
   "cell_type": "code",
   "execution_count": 19,
   "metadata": {},
   "outputs": [
    {
     "data": {
      "text/plain": [
       "4.989934413403997"
      ]
     },
     "execution_count": 19,
     "metadata": {},
     "output_type": "execute_result"
    }
   ],
   "source": [
    "# var(f) = E(f - E(f)^2) = E(f^2) - (E(f))^2\n",
    "mean(data.^2) - mean(data)^2"
   ]
  },
  {
   "cell_type": "markdown",
   "metadata": {},
   "source": [
    "Covariance gives some sense of how much two values are linearly related to each other, as well as the scale of these variables. "
   ]
  },
  {
   "cell_type": "code",
   "execution_count": 21,
   "metadata": {},
   "outputs": [
    {
     "data": {
      "text/plain": [
       "9.979878806662654"
      ]
     },
     "execution_count": 21,
     "metadata": {},
     "output_type": "execute_result"
    }
   ],
   "source": [
    "cov(data, data.*2)"
   ]
  },
  {
   "cell_type": "code",
   "execution_count": 38,
   "metadata": {},
   "outputs": [
    {
     "data": {
      "text/plain": [
       "9.97986882680799"
      ]
     },
     "execution_count": 38,
     "metadata": {},
     "output_type": "execute_result"
    }
   ],
   "source": [
    "# cov = E(f - E(f))(g - E(g))\n",
    "mean((data .- mean(data)).*(data*2 .- mean(data.*2)))"
   ]
  },
  {
   "cell_type": "markdown",
   "metadata": {},
   "source": [
    "The notions of covariance and dependence are related, but are in fact distinct concepts. \n",
    "\n",
    "They are related because two variables that are independent have zero covariance, and two variables that have non-zero covariance are dependent. \n",
    "\n",
    "However, independence is a distinct property from covariance. \n",
    "\n",
    "For two variables to have zero covariance, there must be no linear dependence between them. Independence is a stronger requirement than zero covariance, because independence also excludes nonlinear relationships. It is possible for two variables to be dependent but have zero covariance."
   ]
  },
  {
   "cell_type": "markdown",
   "metadata": {},
   "source": [
    "# 3.9 Common Probability Distributions\n",
    "## 3.9.1 Bernoulli Distribution\n",
    "\n",
    "It is distribution over a single binary random variable. "
   ]
  },
  {
   "cell_type": "code",
   "execution_count": 50,
   "metadata": {},
   "outputs": [
    {
     "data": {
      "text/plain": [
       "true"
      ]
     },
     "execution_count": 50,
     "metadata": {},
     "output_type": "execute_result"
    }
   ],
   "source": [
    "dist = Bernoulli(0.7)\n",
    "data = rand(dist, 10^6)\n",
    "pdf(dist, 1) == 0.7"
   ]
  },
  {
   "cell_type": "code",
   "execution_count": 51,
   "metadata": {},
   "outputs": [
    {
     "data": {
      "text/plain": [
       "true"
      ]
     },
     "execution_count": 51,
     "metadata": {},
     "output_type": "execute_result"
    }
   ],
   "source": [
    "pdf(dist, 0) == 1 - 0.7"
   ]
  },
  {
   "cell_type": "code",
   "execution_count": 53,
   "metadata": {},
   "outputs": [
    {
     "data": {
      "text/plain": [
       "(0.0, 0.9731403252061126)"
      ]
     },
     "execution_count": 53,
     "metadata": {},
     "output_type": "execute_result"
    }
   ],
   "source": [
    "pdf(dist, 0.2), 0.7^0.2(1-0.7)^(1-0.2)"
   ]
  },
  {
   "cell_type": "code",
   "execution_count": 54,
   "metadata": {},
   "outputs": [
    {
     "data": {
      "text/plain": [
       "0.700072"
      ]
     },
     "execution_count": 54,
     "metadata": {},
     "output_type": "execute_result"
    }
   ],
   "source": [
    "mean(data)"
   ]
  },
  {
   "cell_type": "markdown",
   "metadata": {},
   "source": [
    "## 3.9.2 Multinoulli Distribution\n",
    "\n",
    "The multinoulli or categorical distribution is a distribution over a single discrete variable with k different states, where k is finite. It is parametrized by vector p, where p gives the probability of the i-th state. "
   ]
  },
  {
   "cell_type": "code",
   "execution_count": null,
   "metadata": {},
   "outputs": [],
   "source": [
    "dist = Multinomial(1, 0.7)"
   ]
  },
  {
   "cell_type": "markdown",
   "metadata": {},
   "source": [
    "## 3.9.3 Gaussian Distribution\n",
    "\n",
    "The most commonly used distribution over real numbers is the normal distribution, also known as the Gaussian distribution. \n",
    "\n",
    "In the absence of prior knowledge about what form a distribution over the real numbers should take, the normal distribution is a good default choice for two major reasons. \n",
    "\n",
    "First, many distributions we wish to model are truly close to being normal distributions. \n",
    "\n",
    "The central limit theorem shows that the sum of many independent random variables is approximately normally distributed. This means that in practice, many complicated systems can be modeled successfully as normally distributed noise, even if the system can be decomposed into parts with more structured behavior.\n",
    "\n",
    "Second, out of all possible probability distributions with the same variance, the normal distribution encodes the maximum amount of uncertainty over the real numbers. We can thus think  of the normal distribution as being the one that inserts the least amount of prior knowledge into a model."
   ]
  },
  {
   "cell_type": "code",
   "execution_count": 55,
   "metadata": {},
   "outputs": [
    {
     "data": {
      "text/plain": [
       "(19.998660382165614, 3.497463393696258)"
      ]
     },
     "execution_count": 55,
     "metadata": {},
     "output_type": "execute_result"
    }
   ],
   "source": [
    "dist = Normal(20, 3.5)\n",
    "mean(rand(dist, 10^6)), std(rand(dist, 10^6))"
   ]
  },
  {
   "cell_type": "markdown",
   "metadata": {},
   "source": [
    "Precision matrix: a more efficient way compare to using covariance matrix to parametrize the distribution. An even simpler version is the isotropic Gaussian distribution, whose covariance matrix is a scalar times the identity matrix."
   ]
  },
  {
   "cell_type": "code",
   "execution_count": 56,
   "metadata": {},
   "outputs": [
    {
     "data": {
      "text/plain": [
       "ZeroMeanIsoNormal(\n",
       "dim: 20\n",
       "μ: [0.0, 0.0, 0.0, 0.0, 0.0, 0.0, 0.0, 0.0, 0.0, 0.0, 0.0, 0.0, 0.0, 0.0, 0.0, 0.0, 0.0, 0.0, 0.0, 0.0]\n",
       "Σ: [12.25 0.0 … 0.0 0.0; 0.0 12.25 … 0.0 0.0; … ; 0.0 0.0 … 12.25 0.0; 0.0 0.0 … 0.0 12.25]\n",
       ")\n"
      ]
     },
     "execution_count": 56,
     "metadata": {},
     "output_type": "execute_result"
    }
   ],
   "source": [
    "dist = MvNormal(20, 3.5)"
   ]
  },
  {
   "cell_type": "code",
   "execution_count": 59,
   "metadata": {
    "scrolled": true
   },
   "outputs": [
    {
     "data": {
      "text/plain": [
       "20×20 Array{Float64,2}:\n",
       " 12.25   0.0    0.0    0.0    0.0   …   0.0    0.0    0.0    0.0    0.0 \n",
       "  0.0   12.25   0.0    0.0    0.0       0.0    0.0    0.0    0.0    0.0 \n",
       "  0.0    0.0   12.25   0.0    0.0       0.0    0.0    0.0    0.0    0.0 \n",
       "  0.0    0.0    0.0   12.25   0.0       0.0    0.0    0.0    0.0    0.0 \n",
       "  0.0    0.0    0.0    0.0   12.25      0.0    0.0    0.0    0.0    0.0 \n",
       "  0.0    0.0    0.0    0.0    0.0   …   0.0    0.0    0.0    0.0    0.0 \n",
       "  0.0    0.0    0.0    0.0    0.0       0.0    0.0    0.0    0.0    0.0 \n",
       "  0.0    0.0    0.0    0.0    0.0       0.0    0.0    0.0    0.0    0.0 \n",
       "  0.0    0.0    0.0    0.0    0.0       0.0    0.0    0.0    0.0    0.0 \n",
       "  0.0    0.0    0.0    0.0    0.0       0.0    0.0    0.0    0.0    0.0 \n",
       "  0.0    0.0    0.0    0.0    0.0   …   0.0    0.0    0.0    0.0    0.0 \n",
       "  0.0    0.0    0.0    0.0    0.0       0.0    0.0    0.0    0.0    0.0 \n",
       "  0.0    0.0    0.0    0.0    0.0       0.0    0.0    0.0    0.0    0.0 \n",
       "  0.0    0.0    0.0    0.0    0.0       0.0    0.0    0.0    0.0    0.0 \n",
       "  0.0    0.0    0.0    0.0    0.0       0.0    0.0    0.0    0.0    0.0 \n",
       "  0.0    0.0    0.0    0.0    0.0   …  12.25   0.0    0.0    0.0    0.0 \n",
       "  0.0    0.0    0.0    0.0    0.0       0.0   12.25   0.0    0.0    0.0 \n",
       "  0.0    0.0    0.0    0.0    0.0       0.0    0.0   12.25   0.0    0.0 \n",
       "  0.0    0.0    0.0    0.0    0.0       0.0    0.0    0.0   12.25   0.0 \n",
       "  0.0    0.0    0.0    0.0    0.0       0.0    0.0    0.0    0.0   12.25"
      ]
     },
     "execution_count": 59,
     "metadata": {},
     "output_type": "execute_result"
    }
   ],
   "source": [
    "# Construct a multivariate normal distribution of dimension d, with zero mean, \n",
    "# and an isotropic covariance\n",
    "using LinearAlgebra\n",
    "abs2(3.5) * Matrix(I, 20, 20)"
   ]
  },
  {
   "cell_type": "markdown",
   "metadata": {},
   "source": [
    "## 3.9.4 Exponential and Laplace Distributions\n",
    "\n",
    "Exponential distribution has a sharp point at x = 0.It is often used to model random durations between occurances. \n",
    "\n",
    "A closely related probability distribution that allows us to place a sharp peak of probability mass at an arbitrary point μ is the Laplace distribution\n",
    "\n",
    "## 3.9.5 The Dirac Distribution and Empirical Distribution\n",
    "\n",
    "A common use of the Dirac delta distribution is as a component of an empirical distribution\n",
    "\n",
    "## 3.9.6 Mixtures of Distributions\n",
    "\n",
    "One common way of combining distributions."
   ]
  },
  {
   "cell_type": "code",
   "execution_count": 73,
   "metadata": {},
   "outputs": [
    {
     "data": {
      "image/png": "[encoded data removed]",
      "text/plain": [
       "Figure(PyObject <Figure size 640x480 with 1 Axes>)"
      ]
     },
     "metadata": {},
     "output_type": "display_data"
    },
    {
     "data": {
      "text/plain": [
       "1-element Array{PyCall.PyObject,1}:\n",
       " PyObject <matplotlib.lines.Line2D object at 0x7f60f2610908>"
      ]
     },
     "execution_count": 73,
     "metadata": {},
     "output_type": "execute_result"
    }
   ],
   "source": [
    "using PyPlot\n",
    "mu1, sigma1 = 10, 5\n",
    "mu2, sigma2 = 40, 12\n",
    "\n",
    "z1 = Normal(mu1,sigma1)\n",
    "z2 = Normal(mu2,sigma2)\n",
    "\n",
    "p = 0.3\n",
    "\n",
    "function mixRv()\n",
    "    (rand() <= p) ? rand(z1) : rand(z2)\n",
    "end\n",
    "\n",
    "# p(c|x)\n",
    "function actualPDF(x)\n",
    "    p*pdf(z1,x) + (1-p)*pdf(z2,x)\n",
    "end\n",
    "\n",
    "numSamples = 100\n",
    "data = [mixRv() for _ in 1:numSamples]\n",
    "\n",
    "pdfActual = actualPDF.(-20:0.1:80)\n",
    "\n",
    "plt[:hist](data,20, histtype = \"step\", normed=true)\n",
    "plot(-20:0.1:80, pdfActual,\"-b\")"
   ]
  },
  {
   "cell_type": "markdown",
   "metadata": {},
   "source": [
    "# 3.10 Useful Properties of Common Functions\n",
    "\n",
    "Logistic sigmoid $\\sigma(x) = \\frac{1}{1+\\exp(-x)}$ is commonly used to produce the φ parameter of a Bernoulli distribution because it's range is (0,1). \n",
    "\n",
    "The sigmoid function saturates when its argument is very positive or very negative, meaning that the function becomes very flat and insensitive to small changes in its input.\n",
    "\n",
    "softplus $\\zeta(x) = \\log(1+\\exp(x))$ can be useful for producing the $\\beta$ or $\\sigma$ parameter of a normal distribution"
   ]
  },
  {
   "cell_type": "markdown",
   "metadata": {},
   "source": [
    "# 3.11 Bayes’ Rule\n",
    "$P(x|y)=\\frac{P(x)P(y|x)}{p(y)}$"
   ]
  }
 ],
 "metadata": {
  "kernelspec": {
   "display_name": "Julia 1.0.2",
   "language": "julia",
   "name": "julia-1.0"
  },
  "language_info": {
   "file_extension": ".jl",
   "mimetype": "application/julia",
   "name": "julia",
   "version": "1.0.2"
  },
  "name": "Chapter 3 - Probability and Information Theory.ipynb"
 },
 "nbformat": 4,
 "nbformat_minor": 2
}
