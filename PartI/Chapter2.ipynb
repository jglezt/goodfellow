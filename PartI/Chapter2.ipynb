{
 "cells": [
  {
   "cell_type": "markdown",
   "metadata": {},
   "source": [
    "# Scalars\n",
    "\n",
    "s ∈ R"
   ]
  },
  {
   "cell_type": "markdown",
   "metadata": {},
   "source": [
    "# Vectors\n",
    "x<sub>z</sub>"
   ]
  },
  {
   "cell_type": "code",
   "execution_count": 2,
   "metadata": {},
   "outputs": [
    {
     "data": {
      "text/plain": [
       "1×5 Array{Float64,2}:\n",
       " 0.571434  0.913382  0.321467  0.272743  0.51451"
      ]
     },
     "execution_count": 2,
     "metadata": {},
     "output_type": "execute_result"
    }
   ],
   "source": [
    "Z = rand(1, 5)"
   ]
  },
  {
   "cell_type": "markdown",
   "metadata": {},
   "source": [
    "# Matrices"
   ]
  },
  {
   "cell_type": "code",
   "execution_count": 3,
   "metadata": {},
   "outputs": [
    {
     "data": {
      "text/plain": [
       "8×8 Array{Int64,2}:\n",
       " 0  1  0  1  0  1  0  1\n",
       " 1  0  1  0  1  0  1  0\n",
       " 0  1  0  1  0  1  0  1\n",
       " 1  0  1  0  1  0  1  0\n",
       " 0  1  0  1  0  1  0  1\n",
       " 1  0  1  0  1  0  1  0\n",
       " 0  1  0  1  0  1  0  1\n",
       " 1  0  1  0  1  0  1  0"
      ]
     },
     "execution_count": 3,
     "metadata": {},
     "output_type": "execute_result"
    }
   ],
   "source": [
    "[(i+j)%2 for i=1:8, j=1:8]"
   ]
  },
  {
   "cell_type": "markdown",
   "metadata": {},
   "source": [
    "# Tensors"
   ]
  },
  {
   "cell_type": "code",
   "execution_count": 12,
   "metadata": {},
   "outputs": [
    {
     "data": {
      "text/plain": [
       "3×4×3 Array{Int64,3}:\n",
       "[:, :, 1] =\n",
       " 0  4  1  9\n",
       " 6  3  9  1\n",
       " 5  9  5  6\n",
       "\n",
       "[:, :, 2] =\n",
       " 4  2  2  2\n",
       " 6  0  5  9\n",
       " 9  4  9  7\n",
       "\n",
       "[:, :, 3] =\n",
       "  3  1  7  2\n",
       " 10  3  5  7\n",
       "  5  4  5  1"
      ]
     },
     "execution_count": 12,
     "metadata": {},
     "output_type": "execute_result"
    }
   ],
   "source": [
    "A = rand(0:10, (3,4,3))\n"
   ]
  },
  {
   "cell_type": "code",
   "execution_count": null,
   "metadata": {},
   "outputs": [],
   "source": [
    "Note from the Hangoung 11/13/18 Repmat was deprecated and replaced with repeat.  \n",
    "https://github.com/JuliaLang/julia/pull/26039"
   ]
  },
  {
   "cell_type": "code",
   "execution_count": null,
   "metadata": {},
   "outputs": [],
   "source": [
    "k = repeat([0 1 3;1 0 3],4,3,2)"
   ]
  }
 ],
 "metadata": {
  "kernelspec": {
   "display_name": "Julia 1.0.2",
   "language": "julia",
   "name": "julia-1.0"
  },
  "language_info": {
   "file_extension": ".jl",
   "mimetype": "application/julia",
   "name": "julia",
   "version": "1.0.2"
  }
 },
 "nbformat": 4,
 "nbformat_minor": 2
}
