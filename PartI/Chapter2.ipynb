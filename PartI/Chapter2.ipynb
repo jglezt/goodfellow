{
 "cells": [
  {
   "cell_type": "markdown",
   "metadata": {},
   "source": [
    "# 2.1 Scalars, Vectors, Matrices and Tensors\n",
    "\n",
    "## Scalars\n",
    "\n",
    "s ∈ R\n",
    "\n",
    "A scalar can be thought of as a matrix with only a single entry. From this, we can see that a scalar is its own transpose: a = $a^\\top$"
   ]
  },
  {
   "cell_type": "markdown",
   "metadata": {},
   "source": [
    "## Vectors\n",
    "A vector is an array of numbers\n",
    "\n",
    "x<sub>z</sub>"
   ]
  },
  {
   "cell_type": "code",
   "execution_count": 13,
   "metadata": {},
   "outputs": [
    {
     "data": {
      "text/plain": [
       "1×5 Array{Float64,2}:\n",
       " 0.00268182  0.681545  0.677991  0.833725  0.0486773"
      ]
     },
     "execution_count": 13,
     "metadata": {},
     "output_type": "execute_result"
    }
   ],
   "source": [
    "Z = rand(1, 5)"
   ]
  },
  {
   "cell_type": "markdown",
   "metadata": {},
   "source": [
    "## Matrices"
   ]
  },
  {
   "cell_type": "code",
   "execution_count": 10,
   "metadata": {},
   "outputs": [
    {
     "data": {
      "text/plain": [
       "8×8 Array{Int64,2}:\n",
       " 0  1  0  1  0  1  0  1\n",
       " 1  0  1  0  1  0  1  0\n",
       " 0  1  0  1  0  1  0  1\n",
       " 1  0  1  0  1  0  1  0\n",
       " 0  1  0  1  0  1  0  1\n",
       " 1  0  1  0  1  0  1  0\n",
       " 0  1  0  1  0  1  0  1\n",
       " 1  0  1  0  1  0  1  0"
      ]
     },
     "execution_count": 10,
     "metadata": {},
     "output_type": "execute_result"
    }
   ],
   "source": [
    "M = [(i+j)%2 for i=1:8, j=1:8]"
   ]
  },
  {
   "cell_type": "markdown",
   "metadata": {},
   "source": [
    "## Tensors\n",
    "An array with more than two axes, in this case 3 axes or dimensions."
   ]
  },
  {
   "cell_type": "code",
   "execution_count": 14,
   "metadata": {},
   "outputs": [
    {
     "data": {
      "text/plain": [
       "3×4×3 Array{Int64,3}:\n",
       "[:, :, 1] =\n",
       " 6  8   1  0\n",
       " 9  8   0  9\n",
       " 0  4  10  0\n",
       "\n",
       "[:, :, 2] =\n",
       " 5  6  8  2\n",
       " 1  0  6  4\n",
       " 1  8  0  9\n",
       "\n",
       "[:, :, 3] =\n",
       "  7  0   9  0\n",
       " 10  1   1  0\n",
       " 10  0  10  4"
      ]
     },
     "execution_count": 14,
     "metadata": {},
     "output_type": "execute_result"
    }
   ],
   "source": [
    "T = rand(0:10, (3,4,3))\n"
   ]
  },
  {
   "cell_type": "code",
   "execution_count": null,
   "metadata": {},
   "outputs": [],
   "source": [
    "Note from the Hangout 11/13/18 Repmat was deprecated and replaced with repeat.  \n",
    "https://github.com/JuliaLang/julia/pull/26039"
   ]
  },
  {
   "cell_type": "code",
   "execution_count": null,
   "metadata": {},
   "outputs": [],
   "source": [
    "k = repeat([0 1 3;1 0 3],4,3,2)"
   ]
  },
  {
   "cell_type": "markdown",
   "metadata": {},
   "source": [
    "## Tensor transpose\n",
    "\n",
    "The transpose of a matrix is the mirror image of the matrix across a diagonal line, called the main diagonal, running down and to the right, starting from its upper left corner. See figure 2.1 for a graphical depiction of this operation. We denote the transpose of a matrix A as $\\mathbf{A}^\\top$\n",
    ", and it is defined such that\n",
    "\n",
    "\n",
    "(A$x^\\top$)<sub>i,j</sub> = A<sub>j,i</sub>"
   ]
  },
  {
   "cell_type": "code",
   "execution_count": 11,
   "metadata": {},
   "outputs": [
    {
     "data": {
      "text/plain": [
       "8×8 Transpose{Int64,Array{Int64,2}}:\n",
       " 0  1  0  1  0  1  0  1\n",
       " 1  0  1  0  1  0  1  0\n",
       " 0  1  0  1  0  1  0  1\n",
       " 1  0  1  0  1  0  1  0\n",
       " 0  1  0  1  0  1  0  1\n",
       " 1  0  1  0  1  0  1  0\n",
       " 0  1  0  1  0  1  0  1\n",
       " 1  0  1  0  1  0  1  0"
      ]
     },
     "execution_count": 11,
     "metadata": {},
     "output_type": "execute_result"
    }
   ],
   "source": [
    "using LinearAlgebra\n",
    "Mt = transpose(M)"
   ]
  },
  {
   "cell_type": "markdown",
   "metadata": {},
   "source": [
    "# 2.2 Multiplying Matrices and Vectors\n",
    "## Matrix products aka element-wise products aka Hadamard products\n",
    "\n",
    "The matrix product of matrices A and B is a third matrix C. In order for this product to be defined, A must have the same number of columns as B has rows. If A is of shape m × n and B is of shape n × p, then C is of shape m × p. We can write the matrix product just by placing two or more matrices together, e.g.\n",
    "C = AB."
   ]
  },
  {
   "cell_type": "code",
   "execution_count": null,
   "metadata": {},
   "outputs": [],
   "source": [
    "A = "
   ]
  }
 ],
 "metadata": {
  "kernelspec": {
   "display_name": "Julia 1.0.2",
   "language": "julia",
   "name": "julia-1.0"
  },
  "language_info": {
   "file_extension": ".jl",
   "mimetype": "application/julia",
   "name": "julia",
   "version": "1.0.2"
  }
 },
 "nbformat": 4,
 "nbformat_minor": 2
}
