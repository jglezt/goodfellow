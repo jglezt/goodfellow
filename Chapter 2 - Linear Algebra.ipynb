{
 "cells": [
  {
   "cell_type": "code",
   "execution_count": 1,
   "metadata": {},
   "outputs": [
    {
     "data": {
      "text/plain": [
       "v\"1.0.1\""
      ]
     },
     "execution_count": 1,
     "metadata": {},
     "output_type": "execute_result"
    }
   ],
   "source": [
    "VERSION"
   ]
  },
  {
   "cell_type": "markdown",
   "metadata": {},
   "source": [
    "# 1. Scalars, Vectors, Matrices and Tensors\n",
    "\n",
    "Scalars\n",
    "\n",
    "$s \\in R$\n",
    "\n",
    "A scalar can be thought of as a matrix with only a single entry. From this, we can see that a scalar is its own transpose: $a = a^\\top$"
   ]
  },
  {
   "cell_type": "markdown",
   "metadata": {},
   "source": [
    "Vectors: a vector is an array of numbers\n",
    "\n",
    "x<sub>z</sub>"
   ]
  },
  {
   "cell_type": "code",
   "execution_count": 13,
   "metadata": {},
   "outputs": [
    {
     "data": {
      "text/plain": [
       "1×5 Array{Float64,2}:\n",
       " 0.00268182  0.681545  0.677991  0.833725  0.0486773"
      ]
     },
     "execution_count": 13,
     "metadata": {},
     "output_type": "execute_result"
    }
   ],
   "source": [
    "Z = rand(1, 5)"
   ]
  },
  {
   "cell_type": "markdown",
   "metadata": {},
   "source": [
    "Matrices - a 2D array of numbers"
   ]
  },
  {
   "cell_type": "code",
   "execution_count": 10,
   "metadata": {},
   "outputs": [
    {
     "data": {
      "text/plain": [
       "8×8 Array{Int64,2}:\n",
       " 0  1  0  1  0  1  0  1\n",
       " 1  0  1  0  1  0  1  0\n",
       " 0  1  0  1  0  1  0  1\n",
       " 1  0  1  0  1  0  1  0\n",
       " 0  1  0  1  0  1  0  1\n",
       " 1  0  1  0  1  0  1  0\n",
       " 0  1  0  1  0  1  0  1\n",
       " 1  0  1  0  1  0  1  0"
      ]
     },
     "execution_count": 10,
     "metadata": {},
     "output_type": "execute_result"
    }
   ],
   "source": [
    "M = [(i+j)%2 for i=1:8, j=1:8]"
   ]
  },
  {
   "cell_type": "code",
   "execution_count": 2,
   "metadata": {},
   "outputs": [
    {
     "data": {
      "text/plain": [
       "3×3 Array{Int64,2}:\n",
       " 1  2  3\n",
       " 4  1  6\n",
       " 7  8  1"
      ]
     },
     "execution_count": 2,
     "metadata": {},
     "output_type": "execute_result"
    }
   ],
   "source": [
    "# matrices\n",
    "z = [1 2 3; 4 1 6; 7 8 1]"
   ]
  },
  {
   "cell_type": "code",
   "execution_count": 3,
   "metadata": {},
   "outputs": [
    {
     "data": {
      "text/plain": [
       "3×3 LinearAlgebra.Transpose{Int64,Array{Int64,2}}:\n",
       " 1  4  7\n",
       " 2  1  8\n",
       " 3  6  1"
      ]
     },
     "execution_count": 3,
     "metadata": {},
     "output_type": "execute_result"
    }
   ],
   "source": [
    "# transpose\n",
    "transpose(z)"
   ]
  },
  {
   "cell_type": "markdown",
   "metadata": {},
   "source": [
    "## Tensors\n",
    "An array with more than two axes, in this case 3 axes or dimensions.\n",
    "\n",
    "Repmat was deprecated and replaced with repeat.  \n",
    "https://github.com/JuliaLang/julia/pull/26039"
   ]
  },
  {
   "cell_type": "code",
   "execution_count": 4,
   "metadata": {},
   "outputs": [
    {
     "data": {
      "text/plain": [
       "3×4×3 Array{Int64,3}:\n",
       "[:, :, 1] =\n",
       " 7  1  1  3\n",
       " 0  0  0  4\n",
       " 3  6  9  0\n",
       "\n",
       "[:, :, 2] =\n",
       " 10  2  4  10\n",
       "  6  1  3   5\n",
       "  1  6  6   3\n",
       "\n",
       "[:, :, 3] =\n",
       "  9  4  7  8\n",
       " 10  8  6  9\n",
       "  5  5  5  4"
      ]
     },
     "execution_count": 4,
     "metadata": {},
     "output_type": "execute_result"
    }
   ],
   "source": [
    "T = rand(0:10, (3,4,3))"
   ]
  },
  {
   "cell_type": "code",
   "execution_count": null,
   "metadata": {},
   "outputs": [],
   "source": [
    "k = repeat([0 1 3;1 0 3],4,3,2)"
   ]
  },
  {
   "cell_type": "markdown",
   "metadata": {},
   "source": [
    "## Tensor transpose\n",
    "\n",
    "The transpose of a matrix is the mirror image of the matrix across a diagonal line, called the main diagonal, running down and to the right, starting from its upper left corner. See figure 2.1 for a graphical depiction of this operation. We denote the transpose of a matrix A as $\\mathbf{A}^\\top$\n",
    ", and it is defined such that\n",
    "\n",
    "\n",
    "(A$x^\\top$)<sub>i,j</sub> = A<sub>j,i</sub>"
   ]
  },
  {
   "cell_type": "code",
   "execution_count": 11,
   "metadata": {},
   "outputs": [
    {
     "data": {
      "text/plain": [
       "8×8 Transpose{Int64,Array{Int64,2}}:\n",
       " 0  1  0  1  0  1  0  1\n",
       " 1  0  1  0  1  0  1  0\n",
       " 0  1  0  1  0  1  0  1\n",
       " 1  0  1  0  1  0  1  0\n",
       " 0  1  0  1  0  1  0  1\n",
       " 1  0  1  0  1  0  1  0\n",
       " 0  1  0  1  0  1  0  1\n",
       " 1  0  1  0  1  0  1  0"
      ]
     },
     "execution_count": 11,
     "metadata": {},
     "output_type": "execute_result"
    }
   ],
   "source": [
    "using LinearAlgebra\n",
    "Mt = transpose(M)"
   ]
  },
  {
   "cell_type": "markdown",
   "metadata": {},
   "source": [
    "# 2.2 Multiplying Matrices and Vectors\n",
    "## Matrix products aka element-wise products aka Hadamard products\n",
    "\n",
    "The matrix product of matrices A and B is a third matrix C. In order for this product to be defined, A must have the same number of columns as B has rows. If A is of shape m × n and B is of shape n × p, then C is of shape m × p. We can write the matrix product just by placing two or more matrices together, e.g.\n",
    "C = AB."
   ]
  },
  {
   "cell_type": "code",
   "execution_count": 6,
   "metadata": {
    "scrolled": false
   },
   "outputs": [
    {
     "data": {
      "text/plain": [
       "3×4 Array{Float64,2}:\n",
       " 0.662875  0.702962  0.842964  0.852696\n",
       " 0.680633  0.728782  0.76477   0.688399\n",
       " 0.729058  0.863334  0.929137  0.80684 "
      ]
     },
     "execution_count": 6,
     "metadata": {},
     "output_type": "execute_result"
    }
   ],
   "source": [
    "# matrix product\n",
    "A = rand(3, 3)\n",
    "B = rand(3, 4)\n",
    "C = A * B"
   ]
  },
  {
   "cell_type": "markdown",
   "metadata": {},
   "source": [
    "# 3. Identity and Inverse Matrices"
   ]
  },
  {
   "cell_type": "code",
   "execution_count": 62,
   "metadata": {},
   "outputs": [
    {
     "data": {
      "text/plain": [
       "2×2 Array{Int64,2}:\n",
       " 2  5\n",
       " 1  3"
      ]
     },
     "execution_count": 62,
     "metadata": {},
     "output_type": "execute_result"
    }
   ],
   "source": [
    "M = [2 5; 1 3]"
   ]
  },
  {
   "cell_type": "code",
   "execution_count": 63,
   "metadata": {},
   "outputs": [
    {
     "data": {
      "text/plain": [
       "2×2 Array{Float64,2}:\n",
       "  3.0  -5.0\n",
       " -1.0   2.0"
      ]
     },
     "execution_count": 63,
     "metadata": {},
     "output_type": "execute_result"
    }
   ],
   "source": [
    "N = inv(M)"
   ]
  },
  {
   "cell_type": "code",
   "execution_count": 68,
   "metadata": {},
   "outputs": [
    {
     "data": {
      "text/plain": [
       "true"
      ]
     },
     "execution_count": 68,
     "metadata": {},
     "output_type": "execute_result"
    }
   ],
   "source": [
    "M*N == N*M == Matrix(I, 2, 2)"
   ]
  },
  {
   "cell_type": "markdown",
   "metadata": {},
   "source": [
    "# 4. Linear Dependence and Span"
   ]
  },
  {
   "cell_type": "markdown",
   "metadata": {},
   "source": [
    "# 5. Norms\n",
    "\n",
    "Sometimes we need to measure the size of a vector. In machine learning, we usually\n",
    "measure the size of vectors using a function called a norm ."
   ]
  },
  {
   "cell_type": "code",
   "execution_count": 14,
   "metadata": {},
   "outputs": [],
   "source": [
    "using LinearAlgebra"
   ]
  },
  {
   "cell_type": "code",
   "execution_count": 15,
   "metadata": {
    "scrolled": true
   },
   "outputs": [
    {
     "data": {
      "text/plain": [
       "1.9787693535421"
      ]
     },
     "execution_count": 15,
     "metadata": {},
     "output_type": "execute_result"
    }
   ],
   "source": [
    "norm(A, 2) # euclidean norm"
   ]
  },
  {
   "cell_type": "code",
   "execution_count": 16,
   "metadata": {},
   "outputs": [
    {
     "data": {
      "text/plain": [
       "5.39072190165707"
      ]
     },
     "execution_count": 16,
     "metadata": {},
     "output_type": "execute_result"
    }
   ],
   "source": [
    "norm(A, 1) # L1 norm, discriminate between elements that are exactly zero and elements that are small but nonzero"
   ]
  },
  {
   "cell_type": "code",
   "execution_count": 17,
   "metadata": {},
   "outputs": [
    {
     "data": {
      "text/plain": [
       "0.8577576083963998"
      ]
     },
     "execution_count": 17,
     "metadata": {},
     "output_type": "execute_result"
    }
   ],
   "source": [
    "norm(A, Inf)# max norm, the maximum row sum of A"
   ]
  },
  {
   "cell_type": "code",
   "execution_count": 12,
   "metadata": {},
   "outputs": [],
   "source": [
    "# Frobenius norm"
   ]
  },
  {
   "cell_type": "markdown",
   "metadata": {},
   "source": [
    "# 6. Special Kinds of Matrices and Vectors"
   ]
  },
  {
   "cell_type": "code",
   "execution_count": 36,
   "metadata": {},
   "outputs": [
    {
     "data": {
      "text/plain": [
       "2×2 Diagonal{Int64,Array{Int64,1}}:\n",
       " 1  ⋅\n",
       " ⋅  2"
      ]
     },
     "execution_count": 36,
     "metadata": {},
     "output_type": "execute_result"
    }
   ],
   "source": [
    "# diagonal matrix\n",
    "v = [1,2]\n",
    "diagA = Diagonal(v)"
   ]
  },
  {
   "cell_type": "code",
   "execution_count": 37,
   "metadata": {},
   "outputs": [
    {
     "data": {
      "text/plain": [
       "11"
      ]
     },
     "execution_count": 37,
     "metadata": {},
     "output_type": "execute_result"
    }
   ],
   "source": [
    "x = [3,4]\n",
    "dot(v, x)"
   ]
  },
  {
   "cell_type": "code",
   "execution_count": 42,
   "metadata": {},
   "outputs": [
    {
     "data": {
      "text/plain": [
       "2×2 Diagonal{Float64,Array{Float64,1}}:\n",
       " 1.0   ⋅ \n",
       "  ⋅   0.5"
      ]
     },
     "execution_count": 42,
     "metadata": {},
     "output_type": "execute_result"
    }
   ],
   "source": [
    "inv(diagA)"
   ]
  },
  {
   "cell_type": "code",
   "execution_count": 75,
   "metadata": {},
   "outputs": [
    {
     "data": {
      "text/plain": [
       "true"
      ]
     },
     "execution_count": 75,
     "metadata": {},
     "output_type": "execute_result"
    }
   ],
   "source": [
    "# symetric matrix\n",
    "A = [2 -3; -3 5]\n",
    "A == transpose(A)"
   ]
  },
  {
   "cell_type": "code",
   "execution_count": 87,
   "metadata": {},
   "outputs": [
    {
     "data": {
      "text/plain": [
       "true"
      ]
     },
     "execution_count": 87,
     "metadata": {},
     "output_type": "execute_result"
    }
   ],
   "source": [
    "# orthonomal matrix\n",
    "A = [0 -0.8 -0.6; 0.8 -0.36 0.48; 0.6 0.48 -0.64]\n",
    "A*transpose(A) == transpose(A)*A #?== Matrix(I,3,3)"
   ]
  },
  {
   "cell_type": "code",
   "execution_count": 86,
   "metadata": {},
   "outputs": [
    {
     "data": {
      "text/plain": [
       "true"
      ]
     },
     "execution_count": 86,
     "metadata": {},
     "output_type": "execute_result"
    }
   ],
   "source": [
    "inv(A) == transpose(A)"
   ]
  },
  {
   "cell_type": "markdown",
   "metadata": {},
   "source": [
    "# 7. Eigendecomposition"
   ]
  },
  {
   "cell_type": "code",
   "execution_count": 113,
   "metadata": {},
   "outputs": [
    {
     "data": {
      "text/plain": [
       "3×3 SymTridiagonal{Float64,Array{Float64,1}}:\n",
       " 1.0  2.0   ⋅ \n",
       " 2.0  2.0  3.0\n",
       "  ⋅   3.0  1.0"
      ]
     },
     "execution_count": 113,
     "metadata": {},
     "output_type": "execute_result"
    }
   ],
   "source": [
    "A = SymTridiagonal([1.; 2.; 1.], [2.; 3.])"
   ]
  },
  {
   "cell_type": "code",
   "execution_count": 89,
   "metadata": {},
   "outputs": [
    {
     "data": {
      "text/plain": [
       "3-element Array{Float64,1}:\n",
       " -2.1400549446402604\n",
       "  1.0000000000000002\n",
       "  5.140054944640259 "
      ]
     },
     "execution_count": 89,
     "metadata": {},
     "output_type": "execute_result"
    }
   ],
   "source": [
    "# eigenvector \n",
    "v = eigvecs(A)"
   ]
  },
  {
   "cell_type": "code",
   "execution_count": 96,
   "metadata": {},
   "outputs": [
    {
     "data": {
      "text/plain": [
       "Eigen{Float64,Float64,Array{Float64,2},Array{Float64,1}}\n",
       "eigenvalues:\n",
       "3-element Array{Float64,1}:\n",
       " -2.1400549446402506\n",
       "  1.0000000000000027\n",
       "  5.1400549446402595\n",
       "eigenvectors:\n",
       "3×3 Array{Float64,2}:\n",
       "  0.418304  -0.83205      0.364299\n",
       " -0.656749  -7.39009e-16  0.754109\n",
       "  0.627457   0.5547       0.546448"
      ]
     },
     "execution_count": 96,
     "metadata": {},
     "output_type": "execute_result"
    }
   ],
   "source": [
    "# eigendecomposition\n",
    "F = eigen(A)"
   ]
  },
  {
   "cell_type": "code",
   "execution_count": 97,
   "metadata": {},
   "outputs": [
    {
     "data": {
      "text/plain": [
       "3-element Array{Float64,1}:\n",
       " -2.1400549446402506\n",
       "  1.0000000000000027\n",
       "  5.1400549446402595"
      ]
     },
     "execution_count": 97,
     "metadata": {},
     "output_type": "execute_result"
    }
   ],
   "source": [
    "F.values"
   ]
  },
  {
   "cell_type": "code",
   "execution_count": 98,
   "metadata": {},
   "outputs": [
    {
     "data": {
      "text/plain": [
       "3×3 Array{Float64,2}:\n",
       "  0.418304  -0.83205      0.364299\n",
       " -0.656749  -7.39009e-16  0.754109\n",
       "  0.627457   0.5547       0.546448"
      ]
     },
     "execution_count": 98,
     "metadata": {},
     "output_type": "execute_result"
    }
   ],
   "source": [
    "F.vectors"
   ]
  },
  {
   "cell_type": "code",
   "execution_count": 112,
   "metadata": {
    "scrolled": true
   },
   "outputs": [
    {
     "data": {
      "text/plain": [
       "3×3 Array{Float64,2}:\n",
       " 1.0          2.0  0.0\n",
       " 2.0          2.0  3.0\n",
       " 8.88178e-16  3.0  1.0"
      ]
     },
     "execution_count": 112,
     "metadata": {},
     "output_type": "execute_result"
    }
   ],
   "source": [
    "F.vectors * Diagonal(F.values) * inv(F.vectors)"
   ]
  },
  {
   "cell_type": "markdown",
   "metadata": {},
   "source": [
    "# 8. Singular Value Decomposition\n",
    "\n",
    "Every real matrix has a singular value decomposition, but the same is not true of the eigenvalue decomposition."
   ]
  },
  {
   "cell_type": "code",
   "execution_count": 114,
   "metadata": {},
   "outputs": [
    {
     "data": {
      "text/plain": [
       "4×5 Array{Float64,2}:\n",
       " 1.0  0.0  0.0  0.0  2.0\n",
       " 0.0  0.0  3.0  0.0  0.0\n",
       " 0.0  0.0  0.0  0.0  0.0\n",
       " 0.0  2.0  0.0  0.0  0.0"
      ]
     },
     "execution_count": 114,
     "metadata": {},
     "output_type": "execute_result"
    }
   ],
   "source": [
    "A = [1. 0. 0. 0. 2.; 0. 0. 3. 0. 0.; 0. 0. 0. 0. 0.; 0. 2. 0. 0. 0.]"
   ]
  },
  {
   "cell_type": "code",
   "execution_count": 115,
   "metadata": {},
   "outputs": [],
   "source": [
    "F = svd(A);"
   ]
  },
  {
   "cell_type": "code",
   "execution_count": 118,
   "metadata": {},
   "outputs": [
    {
     "data": {
      "text/plain": [
       "4×5 Array{Float64,2}:\n",
       " 1.0  0.0  0.0  0.0  2.0\n",
       " 0.0  0.0  3.0  0.0  0.0\n",
       " 0.0  0.0  0.0  0.0  0.0\n",
       " 0.0  2.0  0.0  0.0  0.0"
      ]
     },
     "execution_count": 118,
     "metadata": {},
     "output_type": "execute_result"
    }
   ],
   "source": [
    "F.U * Diagonal(F.S) * F.Vt"
   ]
  },
  {
   "cell_type": "code",
   "execution_count": 119,
   "metadata": {},
   "outputs": [
    {
     "data": {
      "text/plain": [
       "false"
      ]
     },
     "execution_count": 119,
     "metadata": {},
     "output_type": "execute_result"
    }
   ],
   "source": [
    "A == F.U * Diagonal(F.S) * F.Vt #?"
   ]
  },
  {
   "cell_type": "markdown",
   "metadata": {},
   "source": [
    "# 9. The Moore-Penrose Pseudoinverse\n",
    "\n",
    "Matrix inversion is not defined for matrices that are not square."
   ]
  },
  {
   "cell_type": "code",
   "execution_count": 121,
   "metadata": {},
   "outputs": [
    {
     "data": {
      "text/plain": [
       "2×2 Array{Float64,2}:\n",
       " 1.5  1.3\n",
       " 1.2  1.9"
      ]
     },
     "execution_count": 121,
     "metadata": {},
     "output_type": "execute_result"
    }
   ],
   "source": [
    "M = [1.5 1.3; 1.2 1.9]"
   ]
  },
  {
   "cell_type": "code",
   "execution_count": 122,
   "metadata": {},
   "outputs": [
    {
     "data": {
      "text/plain": [
       "2×2 Array{Float64,2}:\n",
       "  1.47287   -1.00775\n",
       " -0.930233   1.16279"
      ]
     },
     "execution_count": 122,
     "metadata": {},
     "output_type": "execute_result"
    }
   ],
   "source": [
    "N = pinv(M)"
   ]
  },
  {
   "cell_type": "code",
   "execution_count": 127,
   "metadata": {},
   "outputs": [
    {
     "data": {
      "text/plain": [
       "2×2 Array{Float64,2}:\n",
       "  1.47287   -1.00775\n",
       " -0.930233   1.16279"
      ]
     },
     "execution_count": 127,
     "metadata": {},
     "output_type": "execute_result"
    }
   ],
   "source": [
    "# Practical algorithms for computing the pseudoinverse wit svd\n",
    "F = svd(M);\n",
    "F.V * pinv(Diagonal(F.S)) * transpose(F.U)"
   ]
  },
  {
   "cell_type": "markdown",
   "metadata": {},
   "source": [
    "# 10. The Trace Operator\n",
    "\n",
    "The trace operator gives the sum of all of the diagonal entries of a matrix:"
   ]
  },
  {
   "cell_type": "code",
   "execution_count": 128,
   "metadata": {},
   "outputs": [
    {
     "data": {
      "text/plain": [
       "2×2 Array{Int64,2}:\n",
       " 1  2\n",
       " 3  4"
      ]
     },
     "execution_count": 128,
     "metadata": {},
     "output_type": "execute_result"
    }
   ],
   "source": [
    "A = [1 2; 3 4]"
   ]
  },
  {
   "cell_type": "code",
   "execution_count": 132,
   "metadata": {
    "scrolled": true
   },
   "outputs": [
    {
     "data": {
      "text/plain": [
       "5"
      ]
     },
     "execution_count": 132,
     "metadata": {},
     "output_type": "execute_result"
    }
   ],
   "source": [
    "tr(A)"
   ]
  },
  {
   "cell_type": "code",
   "execution_count": 134,
   "metadata": {},
   "outputs": [
    {
     "data": {
      "text/plain": [
       "true"
      ]
     },
     "execution_count": 134,
     "metadata": {},
     "output_type": "execute_result"
    }
   ],
   "source": [
    "tr(A) == tr(transpose(A))"
   ]
  },
  {
   "cell_type": "code",
   "execution_count": 136,
   "metadata": {},
   "outputs": [
    {
     "data": {
      "text/plain": [
       "true"
      ]
     },
     "execution_count": 136,
     "metadata": {},
     "output_type": "execute_result"
    }
   ],
   "source": [
    "B = [3 1; 8 8]\n",
    "tr(A * B) == tr(B * A)"
   ]
  },
  {
   "cell_type": "markdown",
   "metadata": {},
   "source": [
    "# 11. The Determinant\n",
    "The determinant of a square matrix, denoted det(A ), is a function mapping matrices to real scalars. The determinant is equal to the product of all the eigenvalues of the matrix. The absolute value of the determinant can be thought of as a measure of how much multiplication by the matrix expands or contracts space."
   ]
  },
  {
   "cell_type": "code",
   "execution_count": 137,
   "metadata": {},
   "outputs": [
    {
     "data": {
      "text/plain": [
       "-2.0"
      ]
     },
     "execution_count": 137,
     "metadata": {},
     "output_type": "execute_result"
    }
   ],
   "source": [
    "det(A)"
   ]
  },
  {
   "cell_type": "markdown",
   "metadata": {},
   "source": [
    "# 12. Example: Principal Components Analysis\n",
    "\n",
    "Suppose we would like to apply lossy compression to these points. Lossy compression means storing the points in a way that requires less memory but may lose some precision. We would like to lose as little precision as possible.\n",
    "\n",
    "Find a lower-dimentional version of them: \n",
    "For each point $x^i \\in \\mathbb R^n$ we find a corresponding code vector $c^i \\in \\mathbb R^l$ where $l < n$. What we want to find then is some encoding function $f(x) = c$ and a decoding function to give $x \\sim g(f(x))$\n",
    "\n",
    "PCA is defined by our choice of the decoding function.  Let $g(c) = Dc$, where $D \\in \\mathbb R^{n*l}$ is the matrix defining the decoding. \n",
    "\n",
    "(Jump to 2.84)\n",
    "\n",
    "$d^*  = argmax Tr(d^\\top X^\\top Xd)$ subject to $d^\\top d=1$\n",
    "\n",
    "This optimization problem may be solved using eigendecomposition. Specifically, the optimal $d$ is given by the eigenvector of $X^\\top X$ corresponding to the largest eigenvalue."
   ]
  },
  {
   "cell_type": "code",
   "execution_count": 86,
   "metadata": {
    "scrolled": true
   },
   "outputs": [
    {
     "data": {
      "text/plain": [
       "100×2 Array{Float64,2}:\n",
       " -1.13111    -1.41215 \n",
       " -4.29218    -9.58859 \n",
       "  0.928813    4.24414 \n",
       "  3.26503     6.79912 \n",
       "  0.478828   -0.613374\n",
       " -0.80312    -2.91784 \n",
       " -4.17154    -8.29433 \n",
       "  0.842047    3.79304 \n",
       "  0.85024     2.21327 \n",
       " -2.3841     -5.63971 \n",
       "  1.24685     1.72247 \n",
       "  6.20088    13.4982  \n",
       "  1.57056     3.9761  \n",
       "  ⋮                   \n",
       " -1.93332    -3.86207 \n",
       "  3.4518      7.93317 \n",
       " -2.36114    -5.42572 \n",
       "  0.430386    2.70734 \n",
       "  1.12691     2.02815 \n",
       "  2.9356      5.59485 \n",
       "  0.0896353   1.12539 \n",
       "  3.29298     7.54297 \n",
       "  1.28039     2.69283 \n",
       "  3.20883     7.38892 \n",
       "  5.0192     10.275   \n",
       " -1.32263    -3.11362 "
      ]
     },
     "execution_count": 86,
     "metadata": {},
     "output_type": "execute_result"
    }
   ],
   "source": [
    "X = 3 * randn(100)\n",
    "Y = 2 * X + randn(100)\n",
    "M = [X Y]"
   ]
  },
  {
   "cell_type": "code",
   "execution_count": 1,
   "metadata": {},
   "outputs": [],
   "source": [
    "# using Pkg; Pkg.add(\"PyPlot\"); \n",
    "using PyPlot"
   ]
  },
  {
   "cell_type": "code",
   "execution_count": 87,
   "metadata": {
    "scrolled": false
   },
   "outputs": [
    {
     "data": {
      "image/png": "[encoded data removed]",
      "text/plain": [
       "Figure(PyObject <Figure size 640x480 with 1 Axes>)"
      ]
     },
     "metadata": {},
     "output_type": "display_data"
    },
    {
     "data": {
      "text/plain": [
       "PyObject <matplotlib.collections.PathCollection object at 0x7f121dd622e8>"
      ]
     },
     "execution_count": 87,
     "metadata": {},
     "output_type": "execute_result"
    }
   ],
   "source": [
    "scatter(X, Y)"
   ]
  },
  {
   "cell_type": "code",
   "execution_count": 88,
   "metadata": {
    "scrolled": true
   },
   "outputs": [
    {
     "data": {
      "text/plain": [
       "Eigen{Float64,Float64,Array{Float64,2},Array{Float64,1}}\n",
       "eigenvalues:\n",
       "2-element Array{Float64,1}:\n",
       "   19.492075332161903\n",
       " 4902.714719791295   \n",
       "eigenvectors:\n",
       "2×2 Array{Float64,2}:\n",
       " -0.900344  0.435179\n",
       "  0.435179  0.900344"
      ]
     },
     "execution_count": 88,
     "metadata": {},
     "output_type": "execute_result"
    }
   ],
   "source": [
    "F = eigen(transpose(M) * M)"
   ]
  },
  {
   "cell_type": "markdown",
   "metadata": {},
   "source": [
    "Optimal d given by the eigenvector corresponding to the bigger eigenvalue (2)"
   ]
  },
  {
   "cell_type": "code",
   "execution_count": 89,
   "metadata": {},
   "outputs": [
    {
     "data": {
      "text/plain": [
       "2-element Array{Float64,1}:\n",
       "   19.492075332161903\n",
       " 4902.714719791295   "
      ]
     },
     "execution_count": 89,
     "metadata": {},
     "output_type": "execute_result"
    }
   ],
   "source": [
    "F.values"
   ]
  },
  {
   "cell_type": "markdown",
   "metadata": {},
   "source": [
    "encoding function is: $D^\\top x$"
   ]
  },
  {
   "cell_type": "code",
   "execution_count": 90,
   "metadata": {
    "scrolled": false
   },
   "outputs": [
    {
     "data": {
      "text/plain": [
       "100×2 Transpose{Float64,Array{Float64,2}}:\n",
       "  0.403848    -1.76366 \n",
       " -0.308314   -10.5009  \n",
       "  1.01071      4.22538 \n",
       "  0.0191804    7.54242 \n",
       " -0.698037    -0.343871\n",
       " -0.5467      -2.97656 \n",
       "  0.146299    -9.28312 \n",
       "  0.892518     3.78148 \n",
       "  0.197659     2.36271 \n",
       " -0.30777     -6.11519 \n",
       " -0.373014     2.09342 \n",
       "  0.291195    14.8515  \n",
       "  0.316274     4.26334 \n",
       "  ⋮                    \n",
       "  0.0599585   -4.31854 \n",
       "  0.344546     8.64473 \n",
       " -0.235322    -5.91253 \n",
       "  0.790684     2.62484 \n",
       " -0.131998     2.31644 \n",
       " -0.208288     6.3148  \n",
       "  0.409045     1.05225 \n",
       "  0.317729     8.22431 \n",
       "  0.0190714    2.98167 \n",
       "  0.326457     8.04899 \n",
       " -0.0475335   11.4353  \n",
       " -0.164162    -3.37891 "
      ]
     },
     "execution_count": 90,
     "metadata": {},
     "output_type": "execute_result"
    }
   ],
   "source": [
    "M_new = transpose(transpose(F.vectors)* transpose(M))"
   ]
  },
  {
   "cell_type": "markdown",
   "metadata": {},
   "source": [
    "Showing transformed data have more variance on y axis"
   ]
  },
  {
   "cell_type": "code",
   "execution_count": 91,
   "metadata": {
    "scrolled": false
   },
   "outputs": [
    {
     "data": {
      "image/png": "[encoded data removed]",
      "text/plain": [
       "Figure(PyObject <Figure size 640x480 with 1 Axes>)"
      ]
     },
     "metadata": {},
     "output_type": "display_data"
    },
    {
     "data": {
      "text/plain": [
       "PyObject <matplotlib.collections.PathCollection object at 0x7f121dcc7390>"
      ]
     },
     "execution_count": 91,
     "metadata": {},
     "output_type": "execute_result"
    }
   ],
   "source": [
    "scatter(M_new[1:100], M_new[101:200])"
   ]
  }
 ],
 "metadata": {
  "kernelspec": {
   "display_name": "Julia 1.0.1",
   "language": "julia",
   "name": "julia-1.0"
  },
  "language_info": {
   "file_extension": ".jl",
   "mimetype": "application/julia",
   "name": "julia",
   "version": "1.0.1"
  }
 },
 "nbformat": 4,
 "nbformat_minor": 2
}
